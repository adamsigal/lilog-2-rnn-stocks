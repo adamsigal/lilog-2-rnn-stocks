{
 "cells": [
  {
   "cell_type": "markdown",
   "metadata": {},
   "source": [
    "# Predict stock prices using RNNs\n",
    "~~Based on Lilan Weng's [blog post](https://lilianweng.github.io/lil-log/2017/07/08/predict-stock-prices-using-RNN-part-1.html)~~\n",
    "* ~~[*her code*](https://github.com/lilianweng/stock-rnn)~~\n",
    "\n",
    "~~Now following [this](https://machinelearningmastery.com/tensorflow-tutorial-deep-learning-with-tf-keras/) tutorial~~\n",
    "\n",
    "~~Actually [this](https://www.youtube.com/watch?v=arydWPLDnEc) one~~\n",
    "\n",
    "Actually [this](https://towardsdatascience.com/lstm-for-google-stock-price-prediction-e35f5cc84165) one"
   ]
  },
  {
   "cell_type": "markdown",
   "metadata": {},
   "source": [
    "### Variables\n",
    "* ${W_i}$: Window i\n",
    "* ${w}$: size of windows \n",
    "* ${p_i}$: stock price at end of day i\n",
    "\n",
    "\n",
    "**Predict:** ${W_{t+1}}$\n",
    "* where ${W_{t+1}} = (p_{(t+1)w}, p_{(t+1)w+1}, ..., p_{(t+2)w-1})$\n",
    "* and ${W_{t}} = (p_{tw}, p_{tw+1}, ..., p_{(t+1)w-1})$\n",
    "\n",
    "i.e., we learn a function $f(W_0, ..., W_t) \\approx W_{t+1}$\n",
    "\n",
    "**RNN:**\n",
    "![](imgs/unrolled_RNN.png)\n",
    "\n",
    "* `input_size`: number of timesteps (days) in a window\n",
    "* `num_steps`: number of windows in a single training ex "
   ]
  },
  {
   "cell_type": "markdown",
   "metadata": {},
   "source": [
    "## 1 - Fetching and formatting the data\n",
    "### 1.1 - Fetching\n",
    "The [pandas](https://pandas.pydata.org/pandas-docs/version/0.15/tutorials.html) library is used for data access / manipulation"
   ]
  },
  {
   "cell_type": "code",
   "execution_count": 1,
   "metadata": {},
   "outputs": [],
   "source": [
    "import click\n",
    "import os\n",
    "import pandas as pd\n",
    "import random\n",
    "import time\n",
    "import urllib\n",
    "import tensorflow as tf\n",
    "import numpy as np\n",
    "from sklearn.preprocessing import MinMaxScaler\n",
    "\n",
    "#from BeautifulSoup import BeautifulSoup\n",
    "from datetime import datetime\n",
    "\n",
    "#np.version.version\n",
    "#print(tf.__version__)"
   ]
  },
  {
   "cell_type": "code",
   "execution_count": 2,
   "metadata": {},
   "outputs": [],
   "source": [
    "def get_csv():\n",
    "    df = pd.read_csv(\"../data/_SP500.csv\")\n",
    "    #df['Close'].plot().set_ylabel(\"Stock price ($)\")\n",
    "    return df\n",
    "    #return df['Date','Open'].iloc[:, 1: 2]"
   ]
  },
  {
   "cell_type": "code",
   "execution_count": 3,
   "metadata": {},
   "outputs": [
    {
     "name": "stdout",
     "output_type": "stream",
     "text": [
      "(16979, 1)\n",
      "[[16.66    ]\n",
      " [16.85    ]\n",
      " [16.93    ]\n",
      " [16.98    ]\n",
      " [17.09    ]\n",
      " [17.030001]\n",
      " [17.09    ]\n",
      " [16.76    ]\n",
      " [16.67    ]\n",
      " [16.65    ]]\n"
     ]
    }
   ],
   "source": [
    "df = get_csv()\n",
    "raw_np = df['Open'].to_numpy().reshape(-1, 1)\n",
    "print(raw_np.shape)\n",
    "#train_set\n",
    "\n",
    "print(raw_np[0:10])"
   ]
  },
  {
   "cell_type": "code",
   "execution_count": 4,
   "metadata": {},
   "outputs": [
    {
     "data": {
      "text/plain": [
       "<matplotlib.axes._subplots.AxesSubplot at 0x7f4977c49080>"
      ]
     },
     "execution_count": 4,
     "metadata": {},
     "output_type": "execute_result"
    },
    {
     "data": {
      "image/png": "[encoded data removed]",
      "text/plain": [
       "<Figure size 432x288 with 1 Axes>"
      ]
     },
     "metadata": {
      "needs_background": "light"
     },
     "output_type": "display_data"
    }
   ],
   "source": [
    "df.plot(x='Date', y='Close')\n",
    "#df.plot(x='Date', y='Close').get_figure().savefig('filename.png', dpi=300)"
   ]
  },
  {
   "cell_type": "markdown",
   "metadata": {},
   "source": [
    "### 1.2 - Formatting: normalizing data\n",
    "\n",
    "The RNN has trouble predicting growth with raw numbers.\n",
    "![](https://lilianweng.github.io/lil-log/assets/images/a_sad_example_stock_prediction.png)\n",
    "Therefore, we normalize the data within a given widnow so that the RNN will be predicting  change relative to the final value in the previous sliding window, rather than future absolute values.\n",
    "$$\n",
    "W'_t = (\\frac{p_{tw}}{p_{tw-1}}, \\frac{p_{tw+1}}{p_{tw-1}}, \\dots, \\frac{p_{(t+1)w-1}}{p_{tw-1}})\n",
    "$$"
   ]
  },
  {
   "cell_type": "code",
   "execution_count": 5,
   "metadata": {},
   "outputs": [],
   "source": [
    "def normalize_data(arr, input_size):\n",
    "    for i in range(arr.shape[0]):\n",
    "        \n",
    "        # If 1st window, we measure change w.r.t. 1st close price\n",
    "        # otherwise, follow rule explained above\n",
    "        if i == 0:\n",
    "            prev_close_price = arr[i,0]\n",
    "        else: \n",
    "            prev_close_price = arr[i-1, input_size-1]\n",
    "            \n",
    "        arr[i] = np.divide(arr[i], prev_close_price)\n",
    "        \n",
    "    return arr"
   ]
  },
  {
   "cell_type": "markdown",
   "metadata": {},
   "source": [
    "### 1.3 - Formatting: splittling data and grouping them into training examples\n",
    "#### Splitting data into discrete windows:\n",
    "<img src=\"../imgs/graph_just_windows.png\" style=\"width:60%;height:60%;\">\n",
    "\n",
    "- $|W_i| = |y_j| = w = $ `input_size` $ = 1$ by default\n",
    "- $|X_j| =$ `num_steps` $ = 30$ by default\n",
    " \n",
    " <br/>\n",
    " \n",
    "#### Grouping into training examples\n",
    "\n",
    "Each training example $X_j$ contains `num_steps` windows, and has an associated *label window* $y_j$ immediately following:\n",
    "<img src=\"../imgs/graph_single_window.png\" style=\"width:60%;height:60%;\">\n",
    "\n",
    "Each training example $X_j$ is followed by a training example $X_{j+1}$ which is another group of `num_steps` windows, shifted over by 1 window:\n",
    "\n",
    "<img src=\"../imgs/graph_training_exs.png\" style=\"width:60%;height:60%;\">\n",
    "\n",
    "Mathematically, these training examples can be represented like this:\n",
    "\n",
    "$$\n",
    "X_1 = [[p_0, p_1, p_2], [p_3, p_4, p_5]], y_1 = [p_6, p_7, p_8] \\\\\n",
    "X_2 = [[p_3, p_4, p_5], [p_6, p_7, p_8]], y_2 = [p_9, p_{10}, p_{11}] \\\\\n",
    "X_3 = [[p_6, p_7, p_8], [p_9, p_{10}, p_{11}]], y_3 = [p_{12}, p_{13}, p_{14}]\n",
    "$$"
   ]
  },
  {
   "cell_type": "code",
   "execution_count": 6,
   "metadata": {},
   "outputs": [],
   "source": [
    "def split_data(arr, input_size, num_steps):\n",
    "        # split the data into discrete windows of size `input_size`\n",
    "        windows = np.array([arr[i * input_size : (i+1) * input_size]\n",
    "              for i in range(arr.shape[0] // input_size)])\n",
    "        \n",
    "        # (i, j, 1) -> (i, j)\n",
    "        windows = windows.reshape(windows.shape[0:2])\n",
    "        \n",
    "        windows = normalize_data(windows, input_size)\n",
    "        \n",
    "        \n",
    "        # Group the windows into training examples of `num_steps` windows.\n",
    "        X = np.array([np.array( windows[j : j + num_steps] )\n",
    "              for j in range( windows.shape[0] - num_steps )])\n",
    "        \n",
    "        y = np.array([np.array(windows[j + num_steps])\n",
    "              for j in range(windows.shape[0] - num_steps)])\n",
    "        \n",
    "        #return (X.reshape(X.shape[:3]), y.reshape(y.shape[:2]))\n",
    "        return (X, y)\n",
    "        "
   ]
  },
  {
   "cell_type": "code",
   "execution_count": 7,
   "metadata": {},
   "outputs": [
    {
     "name": "stdout",
     "output_type": "stream",
     "text": [
      "X shape: (3392, 3, 5)\n",
      "y shape: (3392, 5)\n"
     ]
    }
   ],
   "source": [
    "#print(raw_np)\n",
    "input_size = 5\n",
    "num_steps = 3\n",
    "\n",
    "#windows = split_data(raw_np, input_size, num_steps)\n",
    "#windows.shape\n",
    "\n",
    "X, y = split_data(raw_np, input_size, num_steps)\n",
    "\n",
    "print(\"X shape: \" + str(X.shape))\n",
    "print(\"y shape: \" + str(y.shape))\n",
    "\n",
    "# print(X[-1])\n",
    "# print(y[-2])\n",
    "# print(str(X[1, 0]) + '\\n')\n",
    "# print(str(y[0]))"
   ]
  },
  {
   "cell_type": "markdown",
   "metadata": {},
   "source": [
    "## 2 - Model construction\n",
    "### 2.1 - Defining hyperparameters\n",
    "We put all the hyperparameters in 1 object for easy access."
   ]
  },
  {
   "cell_type": "code",
   "execution_count": 15,
   "metadata": {},
   "outputs": [],
   "source": [
    "class RNNConfig():\n",
    "    input_size = 1\n",
    "    num_steps = 60  # lilog: 30\n",
    "    lstm_size = 50  # lilog: 128\n",
    "    num_layers = 1\n",
    "    drop_prob = 0.2 # lilog: keep_prob=0.8\n",
    "    batch_size = 64\n",
    "    init_learning_rate = 0.001\n",
    "    learning_rate_decay = 0.99\n",
    "    init_epoch = 5\n",
    "    max_epoch = 50\n",
    "\n",
    "config = RNNConfig()"
   ]
  },
  {
   "cell_type": "markdown",
   "metadata": {},
   "source": [
    "### 2.2 - Model definition\n",
    "The last 10% of the data will be taken as training data."
   ]
  },
  {
   "cell_type": "code",
   "execution_count": 30,
   "metadata": {},
   "outputs": [],
   "source": [
    "def model(config):\n",
    "    # get data from CSV\n",
    "    df = get_csv()\n",
    "    raw_np = df['Open'].to_numpy().reshape(-1, 1)\n",
    "    \n",
    "    X, y = split_data(raw_np, config.input_size, config.num_steps)\n",
    "    print(\"X shape: \" + str(X.shape))\n",
    "    print(\"y shape: \" + str(y.shape))\n",
    "    \n",
    "    X_train, X_test = X[ :int(.9*X.shape[0]) ], X[ int(.9*X.shape[0]): ]\n",
    "    y_train, y_test = y[ :int(.9*y.shape[0]) ], y[ int(.9*y.shape[0]): ]\n",
    "    \n",
    "    print(\"X_train shape: \" + str(X_train.shape) + \"\\tX_test shape: \" + str(X_test.shape))\n",
    "    print(\"y_train shape: \" + str(y_train.shape) + \" \\ty_test shape: \" + str(y_test.shape))\n",
    "    \n",
    "    # assemble the model\n",
    "    # TODO: Going basically with TDS's topology\n",
    "    model = tf.keras.Sequential()\n",
    "    model.add(tf.keras.layers.LSTM( units = config.lstm_size, return_sequences = True, input_shape = X_train.shape[1:] ))\n",
    "    model.add(tf.keras.layers.Dropout(rate = config.drop_prob))\n",
    "    ##add 2nd lstm layer\n",
    "    model.add(tf.keras.layers.LSTM(units = config.lstm_size, return_sequences = True))\n",
    "    model.add(tf.keras.layers.Dropout(rate = config.drop_prob))\n",
    "    ##add 3rd lstm layer\n",
    "    model.add(tf.keras.layers.LSTM(units = config.lstm_size, return_sequences = True))\n",
    "    model.add(tf.keras.layers.Dropout(rate = config.drop_prob))\n",
    "    ##add 4th lstm layer\n",
    "    model.add(tf.keras.layers.LSTM(units = config.lstm_size, return_sequences = False))\n",
    "    model.add(tf.keras.layers.Dropout(rate = config.drop_prob))\n",
    "    ## Final dense layer of size y[j].shape (== input_size)\n",
    "    model.add(tf.keras.layers.Dense(config.input_size))\n",
    "    print(model.summary())\n",
    "    return (model, X_train, X_test, y_train, y_test)"
   ]
  },
  {
   "cell_type": "code",
   "execution_count": 31,
   "metadata": {
    "scrolled": true
   },
   "outputs": [
    {
     "name": "stdout",
     "output_type": "stream",
     "text": [
      "X shape: (16919, 60, 1)\n",
      "y shape: (16919, 1)\n",
      "X_train shape: (15227, 60, 1)\tX_test shape: (1692, 60, 1)\n",
      "y_train shape: (15227, 1) \ty_test shape: (1692, 1)\n",
      "Model: \"sequential_8\"\n",
      "_________________________________________________________________\n",
      "Layer (type)                 Output Shape              Param #   \n",
      "=================================================================\n",
      "lstm_20 (LSTM)               (None, 60, 50)            10400     \n",
      "_________________________________________________________________\n",
      "dropout_17 (Dropout)         (None, 60, 50)            0         \n",
      "_________________________________________________________________\n",
      "lstm_21 (LSTM)               (None, 60, 50)            20200     \n",
      "_________________________________________________________________\n",
      "dropout_18 (Dropout)         (None, 60, 50)            0         \n",
      "_________________________________________________________________\n",
      "lstm_22 (LSTM)               (None, 60, 50)            20200     \n",
      "_________________________________________________________________\n",
      "dropout_19 (Dropout)         (None, 60, 50)            0         \n",
      "_________________________________________________________________\n",
      "lstm_23 (LSTM)               (None, 50)                20200     \n",
      "_________________________________________________________________\n",
      "dropout_20 (Dropout)         (None, 50)                0         \n",
      "_________________________________________________________________\n",
      "dense_3 (Dense)              (None, 1)                 51        \n",
      "=================================================================\n",
      "Total params: 71,051\n",
      "Trainable params: 71,051\n",
      "Non-trainable params: 0\n",
      "_________________________________________________________________\n",
      "None\n"
     ]
    }
   ],
   "source": [
    "# TODO: the Xs and Ys should be separate from the model() function\n",
    "rnn_model, X_train, X_test, y_train, y_test = model(config)"
   ]
  },
  {
   "cell_type": "code",
   "execution_count": 33,
   "metadata": {},
   "outputs": [],
   "source": [
    "rnn_model.compile(optimizer='adam', loss='mean_squared_error')"
   ]
  },
  {
   "cell_type": "code",
   "execution_count": 37,
   "metadata": {
    "scrolled": false
   },
   "outputs": [
    {
     "name": "stdout",
     "output_type": "stream",
     "text": [
      "Train on 15227 samples\n",
      "Epoch 1/100\n",
      "15227/15227 [==============================] - 23s 2ms/sample - loss: 12.2551\n",
      "Epoch 2/100\n",
      "15227/15227 [==============================] - 28s 2ms/sample - loss: 12.1358\n",
      "Epoch 3/100\n",
      "15227/15227 [==============================] - 28s 2ms/sample - loss: 11.8600\n",
      "Epoch 4/100\n",
      "15227/15227 [==============================] - 28s 2ms/sample - loss: 11.3817\n",
      "Epoch 5/100\n",
      "15227/15227 [==============================] - 26s 2ms/sample - loss: 11.7320\n",
      "Epoch 6/100\n",
      "15227/15227 [==============================] - 25s 2ms/sample - loss: 11.5364\n",
      "Epoch 7/100\n",
      "15227/15227 [==============================] - 24s 2ms/sample - loss: 11.6128\n",
      "Epoch 8/100\n",
      "15227/15227 [==============================] - 24s 2ms/sample - loss: 12.0610\n",
      "Epoch 9/100\n",
      "15227/15227 [==============================] - 24s 2ms/sample - loss: 11.5033\n",
      "Epoch 10/100\n",
      "15227/15227 [==============================] - 24s 2ms/sample - loss: 11.9103\n",
      "Epoch 11/100\n",
      "15227/15227 [==============================] - 25s 2ms/sample - loss: 11.3133\n",
      "Epoch 12/100\n",
      "15227/15227 [==============================] - 25s 2ms/sample - loss: 11.3707\n",
      "Epoch 13/100\n",
      "15227/15227 [==============================] - 25s 2ms/sample - loss: 11.3311\n",
      "Epoch 14/100\n",
      "15227/15227 [==============================] - 26s 2ms/sample - loss: 11.7812\n",
      "Epoch 15/100\n",
      "15227/15227 [==============================] - 25s 2ms/sample - loss: 10.9283\n",
      "Epoch 16/100\n",
      "15227/15227 [==============================] - 25s 2ms/sample - loss: 11.0616\n",
      "Epoch 17/100\n",
      "15227/15227 [==============================] - 25s 2ms/sample - loss: 11.4334\n",
      "Epoch 18/100\n",
      "15227/15227 [==============================] - 26s 2ms/sample - loss: 11.4451\n",
      "Epoch 19/100\n",
      "15227/15227 [==============================] - 25s 2ms/sample - loss: 11.6332\n",
      "Epoch 20/100\n",
      "15227/15227 [==============================] - 25s 2ms/sample - loss: 11.2073\n",
      "Epoch 21/100\n",
      "15227/15227 [==============================] - 26s 2ms/sample - loss: 10.9881\n",
      "Epoch 22/100\n",
      "15227/15227 [==============================] - 27s 2ms/sample - loss: 11.1425\n",
      "Epoch 23/100\n",
      "15227/15227 [==============================] - 25s 2ms/sample - loss: 11.1941\n",
      "Epoch 24/100\n",
      "15227/15227 [==============================] - 25s 2ms/sample - loss: 10.6789\n",
      "Epoch 25/100\n",
      "15227/15227 [==============================] - 25s 2ms/sample - loss: 11.0105\n",
      "Epoch 26/100\n",
      "15227/15227 [==============================] - 25s 2ms/sample - loss: 11.0335\n",
      "Epoch 27/100\n",
      "15227/15227 [==============================] - 25s 2ms/sample - loss: 10.9395\n",
      "Epoch 28/100\n",
      "15227/15227 [==============================] - 26s 2ms/sample - loss: 10.7367\n",
      "Epoch 29/100\n",
      "15227/15227 [==============================] - 26s 2ms/sample - loss: 11.5242\n",
      "Epoch 30/100\n",
      "15227/15227 [==============================] - 27s 2ms/sample - loss: 11.2169\n",
      "Epoch 31/100\n",
      "15227/15227 [==============================] - 28s 2ms/sample - loss: 11.0444\n",
      "Epoch 32/100\n",
      "15227/15227 [==============================] - 27s 2ms/sample - loss: 11.4017\n",
      "Epoch 33/100\n",
      "15227/15227 [==============================] - 26s 2ms/sample - loss: 10.7118\n",
      "Epoch 34/100\n",
      "15227/15227 [==============================] - 26s 2ms/sample - loss: 10.5532\n",
      "Epoch 35/100\n",
      "15227/15227 [==============================] - 27s 2ms/sample - loss: 11.1896\n",
      "Epoch 36/100\n",
      "15227/15227 [==============================] - 26s 2ms/sample - loss: 10.6378\n",
      "Epoch 37/100\n",
      "15227/15227 [==============================] - 26s 2ms/sample - loss: 10.4122\n",
      "Epoch 38/100\n",
      "15227/15227 [==============================] - 26s 2ms/sample - loss: 10.5188\n",
      "Epoch 39/100\n",
      "15227/15227 [==============================] - 26s 2ms/sample - loss: 10.9108\n",
      "Epoch 40/100\n",
      "15227/15227 [==============================] - 28s 2ms/sample - loss: 10.6204\n",
      "Epoch 41/100\n",
      "15227/15227 [==============================] - 28s 2ms/sample - loss: 10.5925\n",
      "Epoch 42/100\n",
      "15227/15227 [==============================] - 27s 2ms/sample - loss: 10.7517\n",
      "Epoch 43/100\n",
      "15227/15227 [==============================] - 26s 2ms/sample - loss: 10.7000\n",
      "Epoch 44/100\n",
      "15227/15227 [==============================] - 28s 2ms/sample - loss: 11.6746\n",
      "Epoch 45/100\n",
      "15227/15227 [==============================] - 27s 2ms/sample - loss: 10.4986\n",
      "Epoch 46/100\n",
      "15227/15227 [==============================] - 25s 2ms/sample - loss: 10.3980\n",
      "Epoch 47/100\n",
      "15227/15227 [==============================] - 25s 2ms/sample - loss: 10.5507\n",
      "Epoch 48/100\n",
      "15227/15227 [==============================] - 25s 2ms/sample - loss: 10.7372\n",
      "Epoch 49/100\n",
      "15227/15227 [==============================] - 25s 2ms/sample - loss: 10.5572\n",
      "Epoch 50/100\n",
      "15227/15227 [==============================] - 25s 2ms/sample - loss: 10.2946\n",
      "Epoch 51/100\n",
      "15227/15227 [==============================] - 25s 2ms/sample - loss: 10.2681\n",
      "Epoch 52/100\n",
      "15227/15227 [==============================] - 25s 2ms/sample - loss: 11.1279\n",
      "Epoch 53/100\n",
      "15227/15227 [==============================] - 25s 2ms/sample - loss: 9.9053\n",
      "Epoch 54/100\n",
      "15227/15227 [==============================] - 25s 2ms/sample - loss: 10.6196\n",
      "Epoch 55/100\n",
      "15227/15227 [==============================] - 25s 2ms/sample - loss: 10.1135\n",
      "Epoch 56/100\n",
      "15227/15227 [==============================] - 25s 2ms/sample - loss: 10.6056\n",
      "Epoch 57/100\n",
      "15227/15227 [==============================] - 25s 2ms/sample - loss: 10.6541\n",
      "Epoch 58/100\n",
      "15227/15227 [==============================] - 25s 2ms/sample - loss: 10.3779\n",
      "Epoch 59/100\n",
      "15227/15227 [==============================] - 25s 2ms/sample - loss: 10.7653\n",
      "Epoch 60/100\n",
      "15227/15227 [==============================] - 26s 2ms/sample - loss: 10.3202\n",
      "Epoch 61/100\n",
      "15227/15227 [==============================] - 26s 2ms/sample - loss: 10.8308\n",
      "Epoch 62/100\n",
      "15227/15227 [==============================] - 30s 2ms/sample - loss: 10.4994\n",
      "Epoch 63/100\n",
      "15227/15227 [==============================] - 37s 2ms/sample - loss: 9.9394\n",
      "Epoch 64/100\n",
      "15227/15227 [==============================] - 39s 3ms/sample - loss: 10.4267\n",
      "Epoch 65/100\n",
      "15227/15227 [==============================] - 38s 3ms/sample - loss: 10.6676\n",
      "Epoch 66/100\n",
      "15227/15227 [==============================] - 38s 3ms/sample - loss: 10.0551\n",
      "Epoch 67/100\n",
      "15227/15227 [==============================] - 38s 3ms/sample - loss: 9.9634\n",
      "Epoch 68/100\n",
      "15227/15227 [==============================] - 38s 3ms/sample - loss: 9.8525\n",
      "Epoch 69/100\n",
      "15227/15227 [==============================] - 39s 3ms/sample - loss: 9.9570\n",
      "Epoch 70/100\n",
      "15227/15227 [==============================] - 39s 3ms/sample - loss: 10.2114\n",
      "Epoch 71/100\n",
      "15227/15227 [==============================] - 39s 3ms/sample - loss: 10.3362\n",
      "Epoch 72/100\n",
      "15227/15227 [==============================] - 38s 3ms/sample - loss: 10.0051\n",
      "Epoch 73/100\n",
      "15227/15227 [==============================] - 39s 3ms/sample - loss: 9.9747\n",
      "Epoch 74/100\n",
      "15227/15227 [==============================] - 40s 3ms/sample - loss: 9.8929\n",
      "Epoch 75/100\n",
      "15227/15227 [==============================] - 40s 3ms/sample - loss: 10.7178\n",
      "Epoch 76/100\n",
      "15227/15227 [==============================] - 39s 3ms/sample - loss: 10.0958\n",
      "Epoch 77/100\n",
      "15227/15227 [==============================] - 39s 3ms/sample - loss: 9.7707\n",
      "Epoch 78/100\n",
      "15227/15227 [==============================] - 39s 3ms/sample - loss: 9.4212\n",
      "Epoch 79/100\n",
      "15227/15227 [==============================] - 39s 3ms/sample - loss: 10.0187\n",
      "Epoch 80/100\n",
      "15227/15227 [==============================] - 39s 3ms/sample - loss: 9.6703\n",
      "Epoch 81/100\n",
      "15227/15227 [==============================] - 39s 3ms/sample - loss: 9.5882\n",
      "Epoch 82/100\n",
      "15227/15227 [==============================] - 38s 2ms/sample - loss: 9.8075\n",
      "Epoch 83/100\n",
      "15227/15227 [==============================] - 27s 2ms/sample - loss: 10.0388\n",
      "Epoch 84/100\n",
      "15227/15227 [==============================] - 25s 2ms/sample - loss: 9.8768\n",
      "Epoch 85/100\n",
      "15227/15227 [==============================] - 25s 2ms/sample - loss: 10.0972\n",
      "Epoch 86/100\n",
      "15227/15227 [==============================] - 25s 2ms/sample - loss: 10.0221\n",
      "Epoch 87/100\n",
      "15227/15227 [==============================] - 25s 2ms/sample - loss: 10.2019\n",
      "Epoch 88/100\n",
      "15227/15227 [==============================] - 25s 2ms/sample - loss: 10.4440\n",
      "Epoch 89/100\n",
      "15227/15227 [==============================] - 25s 2ms/sample - loss: 9.8828\n",
      "Epoch 90/100\n",
      "15227/15227 [==============================] - 25s 2ms/sample - loss: 9.6779\n",
      "Epoch 91/100\n"
     ]
    },
    {
     "name": "stdout",
     "output_type": "stream",
     "text": [
      "15227/15227 [==============================] - 25s 2ms/sample - loss: 9.4242\n",
      "Epoch 92/100\n",
      "15227/15227 [==============================] - 25s 2ms/sample - loss: 9.8024\n",
      "Epoch 93/100\n",
      "15227/15227 [==============================] - 27s 2ms/sample - loss: 9.6381\n",
      "Epoch 94/100\n",
      "15227/15227 [==============================] - 29s 2ms/sample - loss: 10.0894\n",
      "Epoch 95/100\n",
      "15227/15227 [==============================] - 26s 2ms/sample - loss: 9.7977\n",
      "Epoch 96/100\n",
      "15227/15227 [==============================] - 30s 2ms/sample - loss: 9.9231\n",
      "Epoch 97/100\n",
      "15227/15227 [==============================] - 29s 2ms/sample - loss: 9.8055\n",
      "Epoch 98/100\n",
      "15227/15227 [==============================] - 31s 2ms/sample - loss: 9.9500\n",
      "Epoch 99/100\n",
      "15227/15227 [==============================] - 28s 2ms/sample - loss: 10.0441\n",
      "Epoch 100/100\n",
      "15227/15227 [==============================] - 29s 2ms/sample - loss: 10.0460\n"
     ]
    }
   ],
   "source": [
    "rnn_model.load_weights('../model_save/weights')\n",
    "rnn_model.fit(x=X_train, y=y_train, batch_size=config.batch_size, epochs=100)\n",
    "rnn_model.save_weights('../model_save/weights')"
   ]
  },
  {
   "cell_type": "code",
   "execution_count": 38,
   "metadata": {},
   "outputs": [],
   "source": [
    "predicted_stock_price = rnn_model.predict(X_test)"
   ]
  },
  {
   "cell_type": "code",
   "execution_count": 60,
   "metadata": {},
   "outputs": [
    {
     "name": "stdout",
     "output_type": "stream",
     "text": [
      "(15227, 1) (1692, 1)\n",
      "(16919, 1)\n",
      "(1692, 1)\n"
     ]
    }
   ],
   "source": [
    "# TODO: how to un-normalize?\n",
    "#predicted_stock_price\n",
    "# print(y_train.reshape(y_train.shape[0]).shape, y_test.reshape(y_test.shape[0]).shape)\n",
    "print(y_train.shape, y_test.shape)\n",
    "y = np.concatenate( [y_train, y_test] )\n",
    "print(y.shape)\n",
    "type(predicted_stock_price)\n",
    "print(predicted_stock_price.shape)"
   ]
  },
  {
   "cell_type": "code",
   "execution_count": 65,
   "metadata": {},
   "outputs": [
    {
     "data": {
      "image/png": "[encoded data removed]",
      "text/plain": [
       "<Figure size 432x288 with 1 Axes>"
      ]
     },
     "metadata": {
      "needs_background": "light"
     },
     "output_type": "display_data"
    }
   ],
   "source": [
    "import matplotlib.pyplot as plt\n",
    "plt.plot(y_test[:100], color = 'red', label = 'Real price')\n",
    "plt.plot(predicted_stock_price[:100], color = 'blue', label = 'Predicted price')\n",
    "plt.title('Google price prediction')\n",
    "plt.xlabel('Time')\n",
    "plt.ylabel('Price')\n",
    "plt.legend()\n",
    "plt.show()\n",
    "# TODO: something went so wrong"
   ]
  }
 ],
 "metadata": {
  "kernelspec": {
   "display_name": "Python 3",
   "language": "python",
   "name": "python3"
  },
  "language_info": {
   "codemirror_mode": {
    "name": "ipython",
    "version": 3
   },
   "file_extension": ".py",
   "mimetype": "text/x-python",
   "name": "python",
   "nbconvert_exporter": "python",
   "pygments_lexer": "ipython3",
   "version": "3.6.9"
  }
 },
 "nbformat": 4,
 "nbformat_minor": 4
}
