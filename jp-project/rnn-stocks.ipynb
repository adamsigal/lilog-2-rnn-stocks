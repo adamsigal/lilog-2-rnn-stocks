{
 "cells": [
  {
   "cell_type": "markdown",
   "metadata": {},
   "source": [
    "# Predict stock prices using RNNs\n",
    "~~Based on Lilan Weng's [blog post](https://lilianweng.github.io/lil-log/2017/07/08/predict-stock-prices-using-RNN-part-1.html)~~\n",
    "* ~~[*her code*](https://github.com/lilianweng/stock-rnn)~~\n",
    "\n",
    "~~Now following [this](https://machinelearningmastery.com/tensorflow-tutorial-deep-learning-with-tf-keras/) tutorial~~\n",
    "\n",
    "Actually [this](https://www.youtube.com/watch?v=arydWPLDnEc) one"
   ]
  },
  {
   "cell_type": "markdown",
   "metadata": {},
   "source": [
    "### Variables\n",
    "* ${W_i}$: Window i\n",
    "* ${w}$: size of windows \n",
    "* ${p_i}$: stock price at end of day i\n",
    "\n",
    "\n",
    "**Predict:** ${W_{t+1}}$\n",
    "* where ${W_{t+1}} = (p_{(t+1)w}, p_{(t+1)w+1}, ..., p_{(t+2)w-1})$\n",
    "* and ${W_{t}} = (p_{tw}, p_{tw+1}, ..., p_{(t+1)w-1})$\n",
    "\n",
    "i.e., we learn a function $f(W_0, ..., W_t) \\approx W_{t+1}$\n",
    "\n",
    "**RNN:**\n",
    "![](imgs/unrolled_RNN.png)\n",
    "\n",
    "* `input_size`: number of timesteps (days) in a window\n",
    "* `num_steps`: number of windows in a single training ex "
   ]
  },
  {
   "cell_type": "markdown",
   "metadata": {},
   "source": [
    "## 1 - Fetching and formatting the data\n",
    "### 1.1 - Fetching\n",
    "The [pandas](https://pandas.pydata.org/pandas-docs/version/0.15/tutorials.html) library is used for data access / manipulation"
   ]
  },
  {
   "cell_type": "code",
   "execution_count": 29,
   "metadata": {},
   "outputs": [],
   "source": [
    "import click\n",
    "import os\n",
    "import pandas as pd\n",
    "import random\n",
    "import time\n",
    "import urllib\n",
    "import tensorflow as tf\n",
    "import numpy as np\n",
    "\n",
    "from faker import Faker\n",
    "import random\n",
    "from tqdm import tqdm\n",
    "from babel.dates import format_date\n",
    "from nmt_utils import *\n",
    "import matplotlib.pyplot as plt\n",
    "%matplotlib inline\n",
    "\n",
    "#from BeautifulSoup import BeautifulSoup\n",
    "from datetime import datetime\n",
    "\n",
    "#np.version.version\n",
    "#print(tf.__version__)"
   ]
  },
  {
   "cell_type": "code",
   "execution_count": 1,
   "metadata": {},
   "outputs": [],
   "source": [
    "def get_csv():\n",
    "    df = pd.read_csv(\"../data/_SP500.csv\")\n",
    "    #df['Close'].plot().set_ylabel(\"Stock price ($)\")\n",
    "    return df"
   ]
  },
  {
   "cell_type": "code",
   "execution_count": 24,
   "metadata": {},
   "outputs": [
    {
     "data": {
      "text/html": [
       "<div>\n",
       "<style scoped>\n",
       "    .dataframe tbody tr th:only-of-type {\n",
       "        vertical-align: middle;\n",
       "    }\n",
       "\n",
       "    .dataframe tbody tr th {\n",
       "        vertical-align: top;\n",
       "    }\n",
       "\n",
       "    .dataframe thead th {\n",
       "        text-align: right;\n",
       "    }\n",
       "</style>\n",
       "<table border=\"1\" class=\"dataframe\">\n",
       "  <thead>\n",
       "    <tr style=\"text-align: right;\">\n",
       "      <th></th>\n",
       "      <th>Date</th>\n",
       "      <th>Open</th>\n",
       "      <th>High</th>\n",
       "      <th>Low</th>\n",
       "      <th>Close</th>\n",
       "      <th>Adj Close</th>\n",
       "      <th>Volume</th>\n",
       "    </tr>\n",
       "  </thead>\n",
       "  <tbody>\n",
       "    <tr>\n",
       "      <th>0</th>\n",
       "      <td>1950-01-03</td>\n",
       "      <td>16.660000</td>\n",
       "      <td>16.660000</td>\n",
       "      <td>16.660000</td>\n",
       "      <td>16.660000</td>\n",
       "      <td>16.660000</td>\n",
       "      <td>1260000</td>\n",
       "    </tr>\n",
       "    <tr>\n",
       "      <th>1</th>\n",
       "      <td>1950-01-04</td>\n",
       "      <td>16.850000</td>\n",
       "      <td>16.850000</td>\n",
       "      <td>16.850000</td>\n",
       "      <td>16.850000</td>\n",
       "      <td>16.850000</td>\n",
       "      <td>1890000</td>\n",
       "    </tr>\n",
       "    <tr>\n",
       "      <th>2</th>\n",
       "      <td>1950-01-05</td>\n",
       "      <td>16.930000</td>\n",
       "      <td>16.930000</td>\n",
       "      <td>16.930000</td>\n",
       "      <td>16.930000</td>\n",
       "      <td>16.930000</td>\n",
       "      <td>2550000</td>\n",
       "    </tr>\n",
       "    <tr>\n",
       "      <th>3</th>\n",
       "      <td>1950-01-06</td>\n",
       "      <td>16.980000</td>\n",
       "      <td>16.980000</td>\n",
       "      <td>16.980000</td>\n",
       "      <td>16.980000</td>\n",
       "      <td>16.980000</td>\n",
       "      <td>2010000</td>\n",
       "    </tr>\n",
       "    <tr>\n",
       "      <th>4</th>\n",
       "      <td>1950-01-09</td>\n",
       "      <td>17.090000</td>\n",
       "      <td>17.090000</td>\n",
       "      <td>17.080000</td>\n",
       "      <td>17.080000</td>\n",
       "      <td>17.080000</td>\n",
       "      <td>3850000</td>\n",
       "    </tr>\n",
       "    <tr>\n",
       "      <th>...</th>\n",
       "      <td>...</td>\n",
       "      <td>...</td>\n",
       "      <td>...</td>\n",
       "      <td>...</td>\n",
       "      <td>...</td>\n",
       "      <td>...</td>\n",
       "      <td>...</td>\n",
       "    </tr>\n",
       "    <tr>\n",
       "      <th>16974</th>\n",
       "      <td>2017-06-19</td>\n",
       "      <td>2442.550049</td>\n",
       "      <td>2453.820068</td>\n",
       "      <td>2441.790039</td>\n",
       "      <td>2453.459961</td>\n",
       "      <td>2453.459961</td>\n",
       "      <td>3264700000</td>\n",
       "    </tr>\n",
       "    <tr>\n",
       "      <th>16975</th>\n",
       "      <td>2017-06-20</td>\n",
       "      <td>2450.659912</td>\n",
       "      <td>2450.659912</td>\n",
       "      <td>2436.600098</td>\n",
       "      <td>2437.030029</td>\n",
       "      <td>2437.030029</td>\n",
       "      <td>3416510000</td>\n",
       "    </tr>\n",
       "    <tr>\n",
       "      <th>16976</th>\n",
       "      <td>2017-06-21</td>\n",
       "      <td>2439.310059</td>\n",
       "      <td>2442.229980</td>\n",
       "      <td>2430.739990</td>\n",
       "      <td>2435.610107</td>\n",
       "      <td>2435.610107</td>\n",
       "      <td>3594820000</td>\n",
       "    </tr>\n",
       "    <tr>\n",
       "      <th>16977</th>\n",
       "      <td>2017-06-22</td>\n",
       "      <td>2437.399902</td>\n",
       "      <td>2441.620117</td>\n",
       "      <td>2433.270020</td>\n",
       "      <td>2434.500000</td>\n",
       "      <td>2434.500000</td>\n",
       "      <td>3468210000</td>\n",
       "    </tr>\n",
       "    <tr>\n",
       "      <th>16978</th>\n",
       "      <td>2017-06-23</td>\n",
       "      <td>2434.649902</td>\n",
       "      <td>2441.399902</td>\n",
       "      <td>2431.110107</td>\n",
       "      <td>2438.300049</td>\n",
       "      <td>2438.300049</td>\n",
       "      <td>5278330000</td>\n",
       "    </tr>\n",
       "  </tbody>\n",
       "</table>\n",
       "<p>16979 rows × 7 columns</p>\n",
       "</div>"
      ],
      "text/plain": [
       "             Date         Open         High          Low        Close  \\\n",
       "0      1950-01-03    16.660000    16.660000    16.660000    16.660000   \n",
       "1      1950-01-04    16.850000    16.850000    16.850000    16.850000   \n",
       "2      1950-01-05    16.930000    16.930000    16.930000    16.930000   \n",
       "3      1950-01-06    16.980000    16.980000    16.980000    16.980000   \n",
       "4      1950-01-09    17.090000    17.090000    17.080000    17.080000   \n",
       "...           ...          ...          ...          ...          ...   \n",
       "16974  2017-06-19  2442.550049  2453.820068  2441.790039  2453.459961   \n",
       "16975  2017-06-20  2450.659912  2450.659912  2436.600098  2437.030029   \n",
       "16976  2017-06-21  2439.310059  2442.229980  2430.739990  2435.610107   \n",
       "16977  2017-06-22  2437.399902  2441.620117  2433.270020  2434.500000   \n",
       "16978  2017-06-23  2434.649902  2441.399902  2431.110107  2438.300049   \n",
       "\n",
       "         Adj Close      Volume  \n",
       "0        16.660000     1260000  \n",
       "1        16.850000     1890000  \n",
       "2        16.930000     2550000  \n",
       "3        16.980000     2010000  \n",
       "4        17.080000     3850000  \n",
       "...            ...         ...  \n",
       "16974  2453.459961  3264700000  \n",
       "16975  2437.030029  3416510000  \n",
       "16976  2435.610107  3594820000  \n",
       "16977  2434.500000  3468210000  \n",
       "16978  2438.300049  5278330000  \n",
       "\n",
       "[16979 rows x 7 columns]"
      ]
     },
     "execution_count": 24,
     "metadata": {},
     "output_type": "execute_result"
    }
   ],
   "source": [
    "df = get_csv()\n",
    "df\n",
    "#df['Close']"
   ]
  },
  {
   "cell_type": "code",
   "execution_count": 25,
   "metadata": {},
   "outputs": [
    {
     "data": {
      "text/plain": [
       "<matplotlib.axes._subplots.AxesSubplot at 0x7f9f9068bcf8>"
      ]
     },
     "execution_count": 25,
     "metadata": {},
     "output_type": "execute_result"
    },
    {
     "data": {
      "image/png": "[encoded data removed]",
      "text/plain": [
       "<Figure size 432x288 with 1 Axes>"
      ]
     },
     "metadata": {
      "needs_background": "light"
     },
     "output_type": "display_data"
    }
   ],
   "source": [
    "df.plot(x='Date', y='Close')"
   ]
  },
  {
   "cell_type": "code",
   "execution_count": 27,
   "metadata": {},
   "outputs": [],
   "source": [
    "# split data into *discrete* contiguous windows\n",
    "# TODO: will this have to be modified to accommodate (n,m) sequences rather than univariate?\n",
    "def split_sequence(sequence, n_steps):\n",
    "    X, y = list(), list()\n",
    "    for i in range(len(sequence)):\n",
    "        # end of window\n",
    "        end_ix = i + n_steps\n",
    "        "
   ]
  },
  {
   "cell_type": "code",
   "execution_count": null,
   "metadata": {},
   "outputs": [],
   "source": []
  }
 ],
 "metadata": {
  "kernelspec": {
   "display_name": "Python 3",
   "language": "python",
   "name": "python3"
  },
  "language_info": {
   "codemirror_mode": {
    "name": "ipython",
    "version": 3
   },
   "file_extension": ".py",
   "mimetype": "text/x-python",
   "name": "python",
   "nbconvert_exporter": "python",
   "pygments_lexer": "ipython3",
   "version": "3.6.9"
  }
 },
 "nbformat": 4,
 "nbformat_minor": 4
}
