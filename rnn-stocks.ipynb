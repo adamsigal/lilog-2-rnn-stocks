{
 "cells": [
  {
   "cell_type": "markdown",
   "metadata": {},
   "source": [
    "# Predict stock prices using RNNs\n",
    "Following Lilan Weng's [blog post](https://lilianweng.github.io/lil-log/2017/07/08/predict-stock-prices-using-RNN-part-1.html)\n",
    "* [*her code*](https://github.com/lilianweng/stock-rnn)"
   ]
  },
  {
   "cell_type": "markdown",
   "metadata": {},
   "source": [
    "### Variables\n",
    "* ${W_i}$: Window i\n",
    "* ${w}$: size of windows \n",
    "* ${p_i}$: stock price at end of day i\n",
    "\n",
    "\n",
    "**Predict:** ${W_{t+1}}$\n",
    "* where ${W_{t+1}} = (p_{(t+1)w}, p_{(t+1)w+1}, ..., p_{(t+2)w-1})$\n",
    "* and ${W_{t}} = (p_{tw}, p_{tw+1}, ..., p_{(t+1)w-1})$\n",
    "\n",
    "i.e., we learn a function $f(W_0, ..., W_t) \\approx W_{t+1}$\n",
    "\n",
    "**RNN:**\n",
    "![](imgs/unrolled_RNN.png)\n",
    "\n",
    "* `input_size`: number of timesteps (days) in a window\n",
    "* `num_steps`: number of windows in a single training ex "
   ]
  },
  {
   "cell_type": "markdown",
   "metadata": {},
   "source": [
    "## 1 - Fetching and formatting the data\n",
    "### 1.1 - Fetching"
   ]
  },
  {
   "cell_type": "code",
   "execution_count": 6,
   "metadata": {},
   "outputs": [
    {
     "name": "stdout",
     "output_type": "stream",
     "text": [
      "<module 'posixpath' from '/usr/lib/python3.6/posixpath.py'>\n"
     ]
    }
   ],
   "source": [
    "import os\n",
    "import pandas as pd\n",
    "\n",
    "DATA_PATH = \"data\"\n",
    "#print(os.path)\n",
    "\n",
    "pd"
   ]
  }
 ],
 "metadata": {
  "kernelspec": {
   "display_name": "Python 3",
   "language": "python",
   "name": "python3"
  },
  "language_info": {
   "codemirror_mode": {
    "name": "ipython",
    "version": 3
   },
   "file_extension": ".py",
   "mimetype": "text/x-python",
   "name": "python",
   "nbconvert_exporter": "python",
   "pygments_lexer": "ipython3",
   "version": "3.6.9"
  }
 },
 "nbformat": 4,
 "nbformat_minor": 4
}
